{
  "cells": [
    {
      "cell_type": "markdown",
      "source": [
        "# Assignment 2\n",
        "By Sushaanth Srinivasan, SSNCE195001113"
      ],
      "metadata": {
        "id": "lK9jXGswd3Hy"
      },
      "id": "lK9jXGswd3Hy"
    },
    {
      "cell_type": "markdown",
      "source": [
        "## 1. Download Dataset"
      ],
      "metadata": {
        "id": "KA8mV6xGgSGC"
      },
      "id": "KA8mV6xGgSGC"
    },
    {
      "cell_type": "markdown",
      "source": [
        "### Mounting google drive to get Dataset"
      ],
      "metadata": {
        "id": "y3cjeFB5donR"
      },
      "id": "y3cjeFB5donR"
    },
    {
      "cell_type": "code",
      "source": [
        "from google.colab import drive\n",
        "drive.mount('/content/drive')"
      ],
      "metadata": {
        "colab": {
          "base_uri": "https://localhost:8080/"
        },
        "id": "ZudYlHniRQid",
        "outputId": "195a891e-6a20-458c-f4bf-c8ec8414945e"
      },
      "id": "ZudYlHniRQid",
      "execution_count": 1,
      "outputs": [
        {
          "output_type": "stream",
          "name": "stdout",
          "text": [
            "Mounted at /content/drive\n"
          ]
        }
      ]
    },
    {
      "cell_type": "markdown",
      "id": "5de29450",
      "metadata": {
        "id": "5de29450"
      },
      "source": [
        "### Import Required Libraries"
      ]
    },
    {
      "cell_type": "code",
      "execution_count": 2,
      "id": "5641069f",
      "metadata": {
        "id": "5641069f"
      },
      "outputs": [],
      "source": [
        "import tensorflow as tf\n",
        "import numpy as np\n",
        "import matplotlib.pyplot as plt\n",
        "%matplotlib inline"
      ]
    },
    {
      "cell_type": "markdown",
      "id": "9783647a",
      "metadata": {
        "id": "9783647a"
      },
      "source": [
        "## 2. Image Augmentation"
      ]
    },
    {
      "cell_type": "code",
      "source": [
        "!ls \"/content/drive/MyDrive/IBM Data/flowers\""
      ],
      "metadata": {
        "colab": {
          "base_uri": "https://localhost:8080/"
        },
        "id": "nOmmchH6hmk6",
        "outputId": "801b183f-25d3-4b4e-dd23-e3b79155c97c"
      },
      "id": "nOmmchH6hmk6",
      "execution_count": 4,
      "outputs": [
        {
          "output_type": "stream",
          "name": "stdout",
          "text": [
            "daisy  dandelion  rose\tsunflower  tulip\n"
          ]
        }
      ]
    },
    {
      "cell_type": "code",
      "execution_count": 5,
      "id": "c7a73bc5",
      "metadata": {
        "id": "c7a73bc5"
      },
      "outputs": [],
      "source": [
        "IMG_SHAPE = 128\n",
        "IMG_FOLDER = \"/content/drive/MyDrive/IBM Data/flowers\"\n",
        "BATCH_SIZE = 64"
      ]
    },
    {
      "cell_type": "code",
      "execution_count": 6,
      "id": "79eb1ba9",
      "metadata": {
        "id": "79eb1ba9"
      },
      "outputs": [],
      "source": [
        "datagen = tf.keras.preprocessing.image.ImageDataGenerator(rescale=1/255.0, shear_range=0.2, zoom_range=0.2, \n",
        "                                                          rotation_range=45, horizontal_flip=True, vertical_flip=True,\n",
        "                                                          validation_split=0.2)"
      ]
    },
    {
      "cell_type": "code",
      "execution_count": 7,
      "id": "ccf809f6",
      "metadata": {
        "colab": {
          "base_uri": "https://localhost:8080/"
        },
        "id": "ccf809f6",
        "outputId": "7d42d5a6-b7b0-4323-9d72-b3ffee030643"
      },
      "outputs": [
        {
          "output_type": "stream",
          "name": "stdout",
          "text": [
            "Found 3457 images belonging to 5 classes.\n",
            "Found 860 images belonging to 5 classes.\n"
          ]
        }
      ],
      "source": [
        "train = datagen.flow_from_directory(IMG_FOLDER, target_size=(IMG_SHAPE,IMG_SHAPE), color_mode='rgb',\n",
        "                                    class_mode='categorical', batch_size=BATCH_SIZE,\n",
        "                                    shuffle=True, subset='training')\n",
        "test = datagen.flow_from_directory(IMG_FOLDER, target_size=(IMG_SHAPE,IMG_SHAPE), color_mode='rgb',\n",
        "                                class_mode='categorical', batch_size=BATCH_SIZE,\n",
        "                                shuffle=False, subset='validation')"
      ]
    },
    {
      "cell_type": "markdown",
      "id": "dda2221b",
      "metadata": {
        "id": "dda2221b"
      },
      "source": [
        "## 3. Create the Model"
      ]
    },
    {
      "cell_type": "code",
      "execution_count": 8,
      "id": "b198861e",
      "metadata": {
        "id": "b198861e"
      },
      "outputs": [],
      "source": [
        "model = tf.keras.models.Sequential()"
      ]
    },
    {
      "cell_type": "markdown",
      "id": "115a965a",
      "metadata": {
        "id": "115a965a"
      },
      "source": [
        "## 4. Add Layers"
      ]
    },
    {
      "cell_type": "code",
      "execution_count": 9,
      "id": "69267d10",
      "metadata": {
        "colab": {
          "base_uri": "https://localhost:8080/"
        },
        "id": "69267d10",
        "outputId": "e041a38b-6a76-432f-c1ef-a2569b2cd4e7"
      },
      "outputs": [
        {
          "output_type": "stream",
          "name": "stdout",
          "text": [
            "Model: \"sequential\"\n",
            "_________________________________________________________________\n",
            " Layer (type)                Output Shape              Param #   \n",
            "=================================================================\n",
            " conv2d (Conv2D)             (None, 126, 126, 16)      448       \n",
            "                                                                 \n",
            " conv2d_1 (Conv2D)           (None, 126, 126, 16)      2320      \n",
            "                                                                 \n",
            " max_pooling2d (MaxPooling2D  (None, 63, 63, 16)       0         \n",
            " )                                                               \n",
            "                                                                 \n",
            " conv2d_2 (Conv2D)           (None, 61, 61, 32)        4640      \n",
            "                                                                 \n",
            " conv2d_3 (Conv2D)           (None, 61, 61, 32)        9248      \n",
            "                                                                 \n",
            " max_pooling2d_1 (MaxPooling  (None, 30, 30, 32)       0         \n",
            " 2D)                                                             \n",
            "                                                                 \n",
            " conv2d_4 (Conv2D)           (None, 28, 28, 64)        18496     \n",
            "                                                                 \n",
            " conv2d_5 (Conv2D)           (None, 28, 28, 64)        36928     \n",
            "                                                                 \n",
            " max_pooling2d_2 (MaxPooling  (None, 14, 14, 64)       0         \n",
            " 2D)                                                             \n",
            "                                                                 \n",
            " conv2d_6 (Conv2D)           (None, 12, 12, 128)       73856     \n",
            "                                                                 \n",
            " conv2d_7 (Conv2D)           (None, 12, 12, 128)       147584    \n",
            "                                                                 \n",
            " flatten (Flatten)           (None, 18432)             0         \n",
            "                                                                 \n",
            " dense (Dense)               (None, 128)               2359424   \n",
            "                                                                 \n",
            " dense_1 (Dense)             (None, 64)                8256      \n",
            "                                                                 \n",
            " dense_2 (Dense)             (None, 5)                 325       \n",
            "                                                                 \n",
            "=================================================================\n",
            "Total params: 2,661,525\n",
            "Trainable params: 2,661,525\n",
            "Non-trainable params: 0\n",
            "_________________________________________________________________\n"
          ]
        }
      ],
      "source": [
        "model.add(tf.keras.layers.Input((IMG_SHAPE,IMG_SHAPE,3)))\n",
        "model.add(tf.keras.layers.Conv2D(16, 3, activation='relu'))\n",
        "model.add(tf.keras.layers.Conv2D(16, 3, padding='same', activation='relu'))\n",
        "model.add(tf.keras.layers.MaxPool2D(2))\n",
        "model.add(tf.keras.layers.Conv2D(32, 3, activation='relu'))\n",
        "model.add(tf.keras.layers.Conv2D(32, 3, padding='same', activation='relu'))\n",
        "model.add(tf.keras.layers.MaxPool2D(2))\n",
        "model.add(tf.keras.layers.Conv2D(64, 3, activation='relu'))\n",
        "model.add(tf.keras.layers.Conv2D(64, 3, padding='same', activation='relu'))\n",
        "model.add(tf.keras.layers.MaxPool2D(2))\n",
        "model.add(tf.keras.layers.Conv2D(128, 3, activation='relu'))\n",
        "model.add(tf.keras.layers.Conv2D(128, 3, padding='same', activation='relu'))\n",
        "model.add(tf.keras.layers.Flatten())\n",
        "model.add(tf.keras.layers.Dense(128, activation='relu'))\n",
        "model.add(tf.keras.layers.Dense(64, activation='relu'))\n",
        "model.add(tf.keras.layers.Dense(5, activation='softmax'))\n",
        "\n",
        "model.summary()"
      ]
    },
    {
      "cell_type": "markdown",
      "id": "2ca721ce",
      "metadata": {
        "id": "2ca721ce"
      },
      "source": [
        "## 5. Compile the Model"
      ]
    },
    {
      "cell_type": "code",
      "execution_count": 10,
      "id": "6920c1c6",
      "metadata": {
        "id": "6920c1c6"
      },
      "outputs": [],
      "source": [
        "model.compile(loss='categorical_crossentropy', optimizer=tf.keras.optimizers.Adam(1e-4), metrics=['accuracy'])"
      ]
    },
    {
      "cell_type": "markdown",
      "id": "26246343",
      "metadata": {
        "id": "26246343"
      },
      "source": [
        "## 6. Fit the Model"
      ]
    },
    {
      "cell_type": "code",
      "execution_count": 11,
      "id": "09668d4c",
      "metadata": {
        "colab": {
          "base_uri": "https://localhost:8080/"
        },
        "id": "09668d4c",
        "outputId": "f5ff82cf-16d4-4e1d-8b65-ddfd84573b62"
      },
      "outputs": [
        {
          "output_type": "stream",
          "name": "stdout",
          "text": [
            "Epoch 1/25\n",
            "55/55 [==============================] - 830s 15s/step - loss: 1.5780 - accuracy: 0.2496\n",
            "Epoch 2/25\n",
            "55/55 [==============================] - 24s 439ms/step - loss: 1.4785 - accuracy: 0.3379\n",
            "Epoch 3/25\n",
            "55/55 [==============================] - 24s 438ms/step - loss: 1.3760 - accuracy: 0.4021\n",
            "Epoch 4/25\n",
            "55/55 [==============================] - 24s 444ms/step - loss: 1.2676 - accuracy: 0.4640\n",
            "Epoch 5/25\n",
            "55/55 [==============================] - 24s 438ms/step - loss: 1.1787 - accuracy: 0.5187\n",
            "Epoch 6/25\n",
            "55/55 [==============================] - 24s 437ms/step - loss: 1.1059 - accuracy: 0.5603\n",
            "Epoch 7/25\n",
            "55/55 [==============================] - 24s 435ms/step - loss: 1.0982 - accuracy: 0.5528\n",
            "Epoch 8/25\n",
            "55/55 [==============================] - 24s 436ms/step - loss: 1.0668 - accuracy: 0.5687\n",
            "Epoch 9/25\n",
            "55/55 [==============================] - 24s 442ms/step - loss: 1.0370 - accuracy: 0.5858\n",
            "Epoch 10/25\n",
            "55/55 [==============================] - 24s 442ms/step - loss: 1.0074 - accuracy: 0.6069\n",
            "Epoch 11/25\n",
            "55/55 [==============================] - 24s 435ms/step - loss: 1.0763 - accuracy: 0.5791\n",
            "Epoch 12/25\n",
            "55/55 [==============================] - 24s 434ms/step - loss: 1.0198 - accuracy: 0.5965\n",
            "Epoch 13/25\n",
            "55/55 [==============================] - 24s 431ms/step - loss: 1.0662 - accuracy: 0.5647\n",
            "Epoch 14/25\n",
            "55/55 [==============================] - 29s 520ms/step - loss: 1.0205 - accuracy: 0.5973\n",
            "Epoch 15/25\n",
            "55/55 [==============================] - 24s 433ms/step - loss: 0.9603 - accuracy: 0.6271\n",
            "Epoch 16/25\n",
            "55/55 [==============================] - 24s 433ms/step - loss: 0.9221 - accuracy: 0.6294\n",
            "Epoch 17/25\n",
            "55/55 [==============================] - 24s 430ms/step - loss: 0.9070 - accuracy: 0.6451\n",
            "Epoch 18/25\n",
            "55/55 [==============================] - 24s 428ms/step - loss: 0.9388 - accuracy: 0.6277\n",
            "Epoch 19/25\n",
            "55/55 [==============================] - 24s 430ms/step - loss: 0.9064 - accuracy: 0.6451\n",
            "Epoch 20/25\n",
            "55/55 [==============================] - 24s 427ms/step - loss: 0.8949 - accuracy: 0.6563\n",
            "Epoch 21/25\n",
            "55/55 [==============================] - 24s 429ms/step - loss: 0.8570 - accuracy: 0.6676\n",
            "Epoch 22/25\n",
            "55/55 [==============================] - 24s 433ms/step - loss: 0.8548 - accuracy: 0.6535\n",
            "Epoch 23/25\n",
            "55/55 [==============================] - 23s 425ms/step - loss: 0.8512 - accuracy: 0.6621\n",
            "Epoch 24/25\n",
            "55/55 [==============================] - 24s 427ms/step - loss: 0.9593 - accuracy: 0.6321\n",
            "Epoch 25/25\n",
            "55/55 [==============================] - 24s 426ms/step - loss: 0.8470 - accuracy: 0.6691\n"
          ]
        }
      ],
      "source": [
        "hist = model.fit(train, epochs=25)"
      ]
    },
    {
      "cell_type": "markdown",
      "id": "17771d1e",
      "metadata": {
        "id": "17771d1e"
      },
      "source": [
        "# Save the Model"
      ]
    },
    {
      "cell_type": "code",
      "execution_count": 12,
      "id": "beba0483",
      "metadata": {
        "id": "beba0483"
      },
      "outputs": [],
      "source": [
        "model.save(\"flower_classifier.h5\")"
      ]
    },
    {
      "cell_type": "markdown",
      "id": "c4ee21ca",
      "metadata": {
        "id": "c4ee21ca"
      },
      "source": [
        "# Test the Model"
      ]
    },
    {
      "cell_type": "code",
      "execution_count": 13,
      "id": "2d39be27",
      "metadata": {
        "colab": {
          "base_uri": "https://localhost:8080/"
        },
        "id": "2d39be27",
        "outputId": "a917d45f-afbf-4856-e801-77bee4aa045f"
      },
      "outputs": [
        {
          "output_type": "stream",
          "name": "stdout",
          "text": [
            "14/14 [==============================] - 194s 15s/step - loss: 0.9031 - accuracy: 0.6326\n",
            "Loss Value for Test Data : 0.9030939936637878\n",
            "Accuracy for Test Data : 0.6325581669807434\n"
          ]
        }
      ],
      "source": [
        "loss, acc = model.evaluate(test)\n",
        "print(f\"Loss Value for Test Data : {loss}\")\n",
        "print(f\"Accuracy for Test Data : {acc}\")"
      ]
    },
    {
      "cell_type": "code",
      "execution_count": 14,
      "id": "bf955165",
      "metadata": {
        "colab": {
          "base_uri": "https://localhost:8080/",
          "height": 295
        },
        "id": "bf955165",
        "outputId": "df8c9e23-7051-4b4d-d5a5-a812eb3d9f25"
      },
      "outputs": [
        {
          "output_type": "display_data",
          "data": {
            "text/plain": [
              "<Figure size 432x288 with 1 Axes>"
            ],
            "image/png": "[encoded data removed]"
          },
          "metadata": {
            "needs_background": "light"
          }
        }
      ],
      "source": [
        "plt.plot(hist.history['loss'])\n",
        "plt.title(\"Loss vs No. of Epochs\")\n",
        "plt.xlabel(\"No. of Epochs\")\n",
        "plt.ylabel(\"Loss\")\n",
        "plt.show()"
      ]
    },
    {
      "cell_type": "code",
      "execution_count": 15,
      "id": "a80ef3cf",
      "metadata": {
        "colab": {
          "base_uri": "https://localhost:8080/",
          "height": 295
        },
        "id": "a80ef3cf",
        "outputId": "c570bba4-ef72-4c9e-e4a6-db62bbe49554"
      },
      "outputs": [
        {
          "output_type": "display_data",
          "data": {
            "text/plain": [
              "<Figure size 432x288 with 1 Axes>"
            ],
            "image/png": "[encoded data removed]"
          },
          "metadata": {
            "needs_background": "light"
          }
        }
      ],
      "source": [
        "plt.plot(hist.history['accuracy'])\n",
        "plt.title(\"Accuracy vs No. of Epochs\")\n",
        "plt.xlabel(\"No. of Epochs\")\n",
        "plt.ylabel(\"Accuracy\")\n",
        "plt.show()"
      ]
    }
  ],
  "metadata": {
    "kernelspec": {
      "display_name": "Python 3 (ipykernel)",
      "language": "python",
      "name": "python3"
    },
    "language_info": {
      "codemirror_mode": {
        "name": "ipython",
        "version": 3
      },
      "file_extension": ".py",
      "mimetype": "text/x-python",
      "name": "python",
      "nbconvert_exporter": "python",
      "pygments_lexer": "ipython3",
      "version": "3.9.13"
    },
    "colab": {
      "provenance": []
    },
    "accelerator": "GPU"
  },
  "nbformat": 4,
  "nbformat_minor": 5
}