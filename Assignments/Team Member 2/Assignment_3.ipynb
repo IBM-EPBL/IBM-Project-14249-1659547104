{
 "cells": [
  {
   "cell_type": "markdown",
   "id": "5de29450",
   "metadata": {},
   "source": [
    "# Import Required Libraries"
   ]
  },
  {
   "cell_type": "code",
   "execution_count": 1,
   "id": "5641069f",
   "metadata": {},
   "outputs": [],
   "source": [
    "import tensorflow as tf\n",
    "import numpy as np\n",
    "import matplotlib.pyplot as plt"
   ]
  },
  {
   "cell_type": "markdown",
   "id": "9783647a",
   "metadata": {},
   "source": [
    "# Image Augmentation"
   ]
  },
  {
   "cell_type": "code",
   "execution_count": 2,
   "id": "ccf809f6",
   "metadata": {},
   "outputs": [
    {
     "name": "stdout",
     "output_type": "stream",
     "text": [
      "Found 3457 images belonging to 5 classes.\n",
      "Found 860 images belonging to 5 classes.\n"
     ]
    }
   ],
   "source": [
    "dir = \"./flowers/\"\n",
    "shape = 128\n",
    "bsize = 64\n",
    "\n",
    "data = tf.keras.preprocessing.image.ImageDataGenerator(rescale=1/255.0, shear_range=0.1, zoom_range=0.1, \n",
    "                                                          rotation_range=90, horizontal_flip=True, vertical_flip=True,\n",
    "                                                          validation_split=0.2)\n",
    "\n",
    "train = data.flow_from_directory(dir, target_size=(shape,shape), color_mode='rgb',\n",
    "                                    class_mode='categorical', batch_size=bsize,\n",
    "                                    shuffle=True, subset='training')\n",
    "test = data.flow_from_directory(dir, target_size=(shape,shape), color_mode='rgb',\n",
    "                                class_mode='categorical', batch_size=bsize,\n",
    "                                shuffle=False, subset='validation')"
   ]
  },
  {
   "cell_type": "markdown",
   "id": "dda2221b",
   "metadata": {},
   "source": [
    "# Create the Model"
   ]
  },
  {
   "cell_type": "code",
   "execution_count": 3,
   "id": "69267d10",
   "metadata": {},
   "outputs": [
    {
     "name": "stdout",
     "output_type": "stream",
     "text": [
      "Model: \"sequential\"\n",
      "_________________________________________________________________\n",
      " Layer (type)                Output Shape              Param #   \n",
      "=================================================================\n",
      " conv2d (Conv2D)             (None, 126, 126, 16)      448       \n",
      "                                                                 \n",
      " conv2d_1 (Conv2D)           (None, 126, 126, 16)      2320      \n",
      "                                                                 \n",
      " max_pooling2d (MaxPooling2D  (None, 63, 63, 16)       0         \n",
      " )                                                               \n",
      "                                                                 \n",
      " conv2d_2 (Conv2D)           (None, 61, 61, 32)        4640      \n",
      "                                                                 \n",
      " conv2d_3 (Conv2D)           (None, 61, 61, 32)        9248      \n",
      "                                                                 \n",
      " max_pooling2d_1 (MaxPooling  (None, 30, 30, 32)       0         \n",
      " 2D)                                                             \n",
      "                                                                 \n",
      " conv2d_4 (Conv2D)           (None, 28, 28, 64)        18496     \n",
      "                                                                 \n",
      " conv2d_5 (Conv2D)           (None, 28, 28, 64)        36928     \n",
      "                                                                 \n",
      " max_pooling2d_2 (MaxPooling  (None, 14, 14, 64)       0         \n",
      " 2D)                                                             \n",
      "                                                                 \n",
      " conv2d_6 (Conv2D)           (None, 12, 12, 128)       73856     \n",
      "                                                                 \n",
      " conv2d_7 (Conv2D)           (None, 12, 12, 128)       147584    \n",
      "                                                                 \n",
      " flatten (Flatten)           (None, 18432)             0         \n",
      "                                                                 \n",
      " dense (Dense)               (None, 128)               2359424   \n",
      "                                                                 \n",
      " dense_1 (Dense)             (None, 64)                8256      \n",
      "                                                                 \n",
      " dense_2 (Dense)             (None, 5)                 325       \n",
      "                                                                 \n",
      "=================================================================\n",
      "Total params: 2,661,525\n",
      "Trainable params: 2,661,525\n",
      "Non-trainable params: 0\n",
      "_________________________________________________________________\n"
     ]
    }
   ],
   "source": [
    "model = tf.keras.models.Sequential()\n",
    "model.add(tf.keras.layers.Input((shape,shape,3)))\n",
    "model.add(tf.keras.layers.Conv2D(16, 3, activation='relu'))\n",
    "model.add(tf.keras.layers.Conv2D(16, 3, padding='same', activation='relu'))\n",
    "model.add(tf.keras.layers.MaxPool2D(2))\n",
    "model.add(tf.keras.layers.Conv2D(32, 3, activation='relu'))\n",
    "model.add(tf.keras.layers.Conv2D(32, 3, padding='same', activation='relu'))\n",
    "model.add(tf.keras.layers.MaxPool2D(2))\n",
    "model.add(tf.keras.layers.Conv2D(64, 3, activation='relu'))\n",
    "model.add(tf.keras.layers.Conv2D(64, 3, padding='same', activation='relu'))\n",
    "model.add(tf.keras.layers.MaxPool2D(2))\n",
    "model.add(tf.keras.layers.Conv2D(128, 3, activation='relu'))\n",
    "model.add(tf.keras.layers.Conv2D(128, 3, padding='same', activation='relu'))\n",
    "model.add(tf.keras.layers.Flatten())\n",
    "model.add(tf.keras.layers.Dense(128, activation='relu'))\n",
    "model.add(tf.keras.layers.Dense(64, activation='relu'))\n",
    "model.add(tf.keras.layers.Dense(5, activation='softmax'))\n",
    "\n",
    "model.summary()"
   ]
  },
  {
   "cell_type": "markdown",
   "id": "2ca721ce",
   "metadata": {},
   "source": [
    "# Compile and fit the Model"
   ]
  },
  {
   "cell_type": "code",
   "execution_count": 4,
   "id": "296ec6f3",
   "metadata": {},
   "outputs": [
    {
     "name": "stdout",
     "output_type": "stream",
     "text": [
      "Epoch 1/20\n",
      "55/55 [==============================] - 59s 1s/step - loss: 1.5790 - accuracy: 0.2751\n",
      "Epoch 2/20\n",
      "55/55 [==============================] - 58s 1s/step - loss: 1.3406 - accuracy: 0.4108\n",
      "Epoch 3/20\n",
      "55/55 [==============================] - 60s 1s/step - loss: 1.2158 - accuracy: 0.4819\n",
      "Epoch 4/20\n",
      "55/55 [==============================] - 64s 1s/step - loss: 1.1924 - accuracy: 0.4880\n",
      "Epoch 5/20\n",
      "55/55 [==============================] - 67s 1s/step - loss: 1.1467 - accuracy: 0.5178\n",
      "Epoch 6/20\n",
      "55/55 [==============================] - 68s 1s/step - loss: 1.1347 - accuracy: 0.5187\n",
      "Epoch 7/20\n",
      "55/55 [==============================] - 68s 1s/step - loss: 1.0891 - accuracy: 0.5404\n",
      "Epoch 8/20\n",
      "55/55 [==============================] - 65s 1s/step - loss: 1.0695 - accuracy: 0.5626\n",
      "Epoch 9/20\n",
      "55/55 [==============================] - 66s 1s/step - loss: 1.0889 - accuracy: 0.5580\n",
      "Epoch 10/20\n",
      "55/55 [==============================] - 62s 1s/step - loss: 1.0463 - accuracy: 0.5635\n",
      "Epoch 11/20\n",
      "55/55 [==============================] - 60s 1s/step - loss: 1.0355 - accuracy: 0.5782\n",
      "Epoch 12/20\n",
      "55/55 [==============================] - 61s 1s/step - loss: 1.0030 - accuracy: 0.5962\n",
      "Epoch 13/20\n",
      "55/55 [==============================] - 60s 1s/step - loss: 1.0288 - accuracy: 0.5765\n",
      "Epoch 14/20\n",
      "55/55 [==============================] - 60s 1s/step - loss: 1.0371 - accuracy: 0.5774\n",
      "Epoch 15/20\n",
      "55/55 [==============================] - 62s 1s/step - loss: 0.9693 - accuracy: 0.6187\n",
      "Epoch 16/20\n",
      "55/55 [==============================] - 60s 1s/step - loss: 0.9991 - accuracy: 0.5947\n",
      "Epoch 17/20\n",
      "55/55 [==============================] - 60s 1s/step - loss: 0.9502 - accuracy: 0.6254\n",
      "Epoch 18/20\n",
      "55/55 [==============================] - 61s 1s/step - loss: 0.9615 - accuracy: 0.6176\n",
      "Epoch 19/20\n",
      "55/55 [==============================] - 61s 1s/step - loss: 0.9245 - accuracy: 0.6326\n",
      "Epoch 20/20\n",
      "55/55 [==============================] - 59s 1s/step - loss: 0.9101 - accuracy: 0.6361\n"
     ]
    }
   ],
   "source": [
    "model.compile(loss='categorical_crossentropy', optimizer=tf.keras.optimizers.Adam(1e-4), metrics=['accuracy'])\n",
    "\n",
    "history = model.fit(train, epochs=20)"
   ]
  },
  {
   "cell_type": "markdown",
   "id": "17771d1e",
   "metadata": {},
   "source": [
    "# Save the Model"
   ]
  },
  {
   "cell_type": "code",
   "execution_count": 5,
   "id": "beba0483",
   "metadata": {},
   "outputs": [],
   "source": [
    "model.save(\"output.h5\")"
   ]
  },
  {
   "cell_type": "markdown",
   "id": "c4ee21ca",
   "metadata": {},
   "source": [
    "# Test the Model"
   ]
  },
  {
   "cell_type": "code",
   "execution_count": 6,
   "id": "2d39be27",
   "metadata": {},
   "outputs": [
    {
     "name": "stdout",
     "output_type": "stream",
     "text": [
      "14/14 [==============================] - 9s 634ms/step - loss: 0.9630 - accuracy: 0.6047\n"
     ]
    }
   ],
   "source": [
    "loss, acc = model.evaluate(test)"
   ]
  },
  {
   "cell_type": "code",
   "execution_count": 7,
   "id": "3438abe2",
   "metadata": {},
   "outputs": [
    {
     "name": "stdout",
     "output_type": "stream",
     "text": [
      "Loss Value for Test Data : 0.96\n",
      "Accuracy for Test Data : 0.60\n"
     ]
    }
   ],
   "source": [
    "print(f\"Loss Value for Test Data : {loss:0.2f}\")\n",
    "print(f\"Accuracy for Test Data : {acc:0.2f}\")"
   ]
  },
  {
   "cell_type": "code",
   "execution_count": 9,
   "id": "a7b41c40",
   "metadata": {},
   "outputs": [
    {
     "data": {
      "image/png": "[encoded data removed]",
      "text/plain": [
       "<Figure size 432x288 with 1 Axes>"
      ]
     },
     "metadata": {
      "needs_background": "light"
     },
     "output_type": "display_data"
    }
   ],
   "source": [
    "plt.plot(history.history['accuracy'])\n",
    "plt.title(\"Accuracy over Epochs\")\n",
    "plt.xlabel(\"Epochs\")\n",
    "plt.ylabel(\"Accuracy\")\n",
    "plt.show()"
   ]
  },
  {
   "cell_type": "code",
   "execution_count": null,
   "id": "050f4d84",
   "metadata": {},
   "outputs": [],
   "source": []
  }
 ],
 "metadata": {
  "kernelspec": {
   "display_name": "Python 3 (ipykernel)",
   "language": "python",
   "name": "python3"
  },
  "language_info": {
   "codemirror_mode": {
    "name": "ipython",
    "version": 3
   },
   "file_extension": ".py",
   "mimetype": "text/x-python",
   "name": "python",
   "nbconvert_exporter": "python",
   "pygments_lexer": "ipython3",
   "version": "3.9.7"
  }
 },
 "nbformat": 4,
 "nbformat_minor": 5
}
