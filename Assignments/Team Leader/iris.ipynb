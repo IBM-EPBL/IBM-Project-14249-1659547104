{
  "cells": [
    {
      "cell_type": "markdown",
      "id": "5de29450",
      "metadata": {
        "id": "5de29450"
      },
      "source": [
        "# Import Required Libraries"
      ]
    },
    {
      "cell_type": "code",
      "execution_count": 7,
      "id": "5641069f",
      "metadata": {
        "id": "5641069f"
      },
      "outputs": [],
      "source": [
        "import tensorflow as tf\n",
        "import numpy as np\n",
        "import matplotlib.pyplot as plt\n",
        "%matplotlib inline"
      ]
    },
    {
      "cell_type": "markdown",
      "id": "9783647a",
      "metadata": {
        "id": "9783647a"
      },
      "source": [
        "# Image Augmentation"
      ]
    },
    {
      "cell_type": "code",
      "execution_count": 8,
      "id": "c7a73bc5",
      "metadata": {
        "id": "c7a73bc5"
      },
      "outputs": [],
      "source": [
        "IMG_SHAPE = 128\n",
        "IMG_FOLDER = \"./drive/MyDrive/flowers/\"\n",
        "BATCH_SIZE = 64"
      ]
    },
    {
      "cell_type": "code",
      "execution_count": 9,
      "id": "79eb1ba9",
      "metadata": {
        "id": "79eb1ba9"
      },
      "outputs": [],
      "source": [
        "data = tf.keras.preprocessing.image.ImageDataGenerator(rescale=1/255.0, shear_range=0.2, zoom_range=0.2, \n",
        "                                                          rotation_range=45, horizontal_flip=True, vertical_flip=True,\n",
        "                                                          validation_split=0.2)"
      ]
    },
    {
      "cell_type": "code",
      "execution_count": 10,
      "id": "ccf809f6",
      "metadata": {
        "colab": {
          "base_uri": "https://localhost:8080/"
        },
        "id": "ccf809f6",
        "outputId": "b0aa14d7-455a-46de-a315-e736eb278010"
      },
      "outputs": [
        {
          "output_type": "stream",
          "name": "stdout",
          "text": [
            "Found 3235 images belonging to 5 classes.\n",
            "Found 805 images belonging to 5 classes.\n"
          ]
        }
      ],
      "source": [
        "\n",
        "train_data = data.flow_from_directory(IMG_FOLDER, target_size=(IMG_SHAPE,IMG_SHAPE), color_mode='rgb',\n",
        "                                    class_mode='categorical',  batch_size=BATCH_SIZE,\n",
        "                                    shuffle=True, subset='training')\n",
        "test_data = data.flow_from_directory(IMG_FOLDER, target_size=(IMG_SHAPE,IMG_SHAPE), color_mode='rgb',\n",
        "                                class_mode='categorical',  batch_size=BATCH_SIZE,\n",
        "                                shuffle=False, subset='validation')"
      ]
    },
    {
      "cell_type": "code",
      "source": [
        "from google.colab import drive\n",
        "drive.mount('/content/drive')"
      ],
      "metadata": {
        "colab": {
          "base_uri": "https://localhost:8080/"
        },
        "id": "DIxreJplWCdQ",
        "outputId": "a2784b5e-411f-4e41-fb38-09f0ef271a42"
      },
      "id": "DIxreJplWCdQ",
      "execution_count": 6,
      "outputs": [
        {
          "output_type": "stream",
          "name": "stdout",
          "text": [
            "Mounted at /content/drive\n"
          ]
        }
      ]
    },
    {
      "cell_type": "markdown",
      "id": "dda2221b",
      "metadata": {
        "id": "dda2221b"
      },
      "source": [
        "# Create the Model"
      ]
    },
    {
      "cell_type": "code",
      "execution_count": 11,
      "id": "b198861e",
      "metadata": {
        "id": "b198861e"
      },
      "outputs": [],
      "source": [
        "model = tf.keras.models.Sequential()"
      ]
    },
    {
      "cell_type": "markdown",
      "id": "115a965a",
      "metadata": {
        "id": "115a965a"
      },
      "source": [
        "# Add Layers to the Model"
      ]
    },
    {
      "cell_type": "code",
      "execution_count": 12,
      "id": "69267d10",
      "metadata": {
        "id": "69267d10",
        "outputId": "93727b28-ad64-40e8-f84e-df10f405c9bb",
        "colab": {
          "base_uri": "https://localhost:8080/"
        }
      },
      "outputs": [
        {
          "output_type": "stream",
          "name": "stdout",
          "text": [
            "Model: \"sequential\"\n",
            "_________________________________________________________________\n",
            " Layer (type)                Output Shape              Param #   \n",
            "=================================================================\n",
            " conv2d (Conv2D)             (None, 126, 126, 16)      448       \n",
            "                                                                 \n",
            " conv2d_1 (Conv2D)           (None, 126, 126, 16)      2320      \n",
            "                                                                 \n",
            " max_pooling2d (MaxPooling2D  (None, 63, 63, 16)       0         \n",
            " )                                                               \n",
            "                                                                 \n",
            " conv2d_2 (Conv2D)           (None, 61, 61, 32)        4640      \n",
            "                                                                 \n",
            " conv2d_3 (Conv2D)           (None, 61, 61, 32)        9248      \n",
            "                                                                 \n",
            " max_pooling2d_1 (MaxPooling  (None, 30, 30, 32)       0         \n",
            " 2D)                                                             \n",
            "                                                                 \n",
            " conv2d_4 (Conv2D)           (None, 28, 28, 64)        18496     \n",
            "                                                                 \n",
            " conv2d_5 (Conv2D)           (None, 28, 28, 64)        36928     \n",
            "                                                                 \n",
            " max_pooling2d_2 (MaxPooling  (None, 14, 14, 64)       0         \n",
            " 2D)                                                             \n",
            "                                                                 \n",
            " conv2d_6 (Conv2D)           (None, 12, 12, 128)       73856     \n",
            "                                                                 \n",
            " conv2d_7 (Conv2D)           (None, 12, 12, 128)       147584    \n",
            "                                                                 \n",
            " flatten (Flatten)           (None, 18432)             0         \n",
            "                                                                 \n",
            " dense (Dense)               (None, 128)               2359424   \n",
            "                                                                 \n",
            " dense_1 (Dense)             (None, 64)                8256      \n",
            "                                                                 \n",
            " dense_2 (Dense)             (None, 5)                 325       \n",
            "                                                                 \n",
            "=================================================================\n",
            "Total params: 2,661,525\n",
            "Trainable params: 2,661,525\n",
            "Non-trainable params: 0\n",
            "_________________________________________________________________\n"
          ]
        }
      ],
      "source": [
        "model.add(tf.keras.layers.Input((IMG_SHAPE,IMG_SHAPE,3)))\n",
        "model.add(tf.keras.layers.Conv2D(16, 3, activation='relu'))\n",
        "model.add(tf.keras.layers.Conv2D(16, 3, padding='same', activation='relu'))\n",
        "model.add(tf.keras.layers.MaxPool2D(2))\n",
        "model.add(tf.keras.layers.Conv2D(32, 3, activation='relu'))\n",
        "model.add(tf.keras.layers.Conv2D(32, 3, padding='same', activation='relu'))\n",
        "model.add(tf.keras.layers.MaxPool2D(2))\n",
        "model.add(tf.keras.layers.Conv2D(64, 3, activation='relu'))\n",
        "model.add(tf.keras.layers.Conv2D(64, 3, padding='same', activation='relu'))\n",
        "model.add(tf.keras.layers.MaxPool2D(2))\n",
        "model.add(tf.keras.layers.Conv2D(128, 3, activation='relu'))\n",
        "model.add(tf.keras.layers.Conv2D(128, 3, padding='same', activation='relu'))\n",
        "model.add(tf.keras.layers.Flatten())\n",
        "model.add(tf.keras.layers.Dense(128, activation='relu'))\n",
        "model.add(tf.keras.layers.Dense(64, activation='relu'))\n",
        "model.add(tf.keras.layers.Dense(5, activation='softmax'))\n",
        "\n",
        "model.summary()"
      ]
    },
    {
      "cell_type": "markdown",
      "id": "2ca721ce",
      "metadata": {
        "id": "2ca721ce"
      },
      "source": [
        "# Compile the Model"
      ]
    },
    {
      "cell_type": "code",
      "execution_count": 13,
      "id": "6920c1c6",
      "metadata": {
        "id": "6920c1c6"
      },
      "outputs": [],
      "source": [
        "model.compile(loss='categorical_crossentropy', optimizer=tf.keras.optimizers.Adam(1e-4), metrics=['accuracy'])"
      ]
    },
    {
      "cell_type": "markdown",
      "id": "26246343",
      "metadata": {
        "id": "26246343"
      },
      "source": [
        "# Fit the Model"
      ]
    },
    {
      "cell_type": "code",
      "execution_count": null,
      "id": "09668d4c",
      "metadata": {
        "id": "09668d4c",
        "outputId": "f2068eb2-c88e-4354-d281-36cd72c40265",
        "colab": {
          "base_uri": "https://localhost:8080/"
        }
      },
      "outputs": [
        {
          "output_type": "stream",
          "name": "stdout",
          "text": [
            "Epoch 1/10\n",
            " 2/51 [>.............................] - ETA: 20:30 - loss: 1.6088 - accuracy: 0.1875"
          ]
        }
      ],
      "source": [
        "hist = model.fit(train_data, epochs=10)"
      ]
    },
    {
      "cell_type": "markdown",
      "id": "17771d1e",
      "metadata": {
        "id": "17771d1e"
      },
      "source": [
        "# Save the Model"
      ]
    },
    {
      "cell_type": "code",
      "execution_count": null,
      "id": "beba0483",
      "metadata": {
        "id": "beba0483"
      },
      "outputs": [],
      "source": [
        "model.save(\"flowers.h5\")"
      ]
    },
    {
      "cell_type": "markdown",
      "id": "c4ee21ca",
      "metadata": {
        "id": "c4ee21ca"
      },
      "source": [
        "# Test the Model"
      ]
    },
    {
      "cell_type": "code",
      "execution_count": null,
      "id": "2d39be27",
      "metadata": {
        "id": "2d39be27"
      },
      "outputs": [],
      "source": [
        "loss, acc = model.evaluate(test_data)"
      ]
    },
    {
      "cell_type": "code",
      "execution_count": null,
      "id": "3438abe2",
      "metadata": {
        "id": "3438abe2"
      },
      "outputs": [],
      "source": [
        "print(f\"Loss Value for Test Data : {loss:0.2f}\")\n",
        "print(f\"Accuracy for Test Data : {acc:0.2f}\")"
      ]
    },
    {
      "cell_type": "code",
      "execution_count": null,
      "id": "bf955165",
      "metadata": {
        "id": "bf955165"
      },
      "outputs": [],
      "source": [
        "plt.plot(hist.history['loss'])\n",
        "plt.title(\"Loss Value over Epochs\")\n",
        "plt.xlabel(\"Epochs\")\n",
        "plt.ylabel(\"Loss\")\n",
        "plt.show()"
      ]
    },
    {
      "cell_type": "code",
      "execution_count": null,
      "id": "a80ef3cf",
      "metadata": {
        "id": "a80ef3cf"
      },
      "outputs": [],
      "source": [
        "plt.plot(hist.history['accuracy'])\n",
        "plt.title(\"Accuracy over Epochs\")\n",
        "plt.xlabel(\"Epochs\")\n",
        "plt.ylabel(\"Accuracy\")\n",
        "plt.show()"
      ]
    }
  ],
  "metadata": {
    "kernelspec": {
      "display_name": "Python 3 (ipykernel)",
      "language": "python",
      "name": "python3"
    },
    "language_info": {
      "codemirror_mode": {
        "name": "ipython",
        "version": 3
      },
      "file_extension": ".py",
      "mimetype": "text/x-python",
      "name": "python",
      "nbconvert_exporter": "python",
      "pygments_lexer": "ipython3",
      "version": "3.9.13"
    },
    "colab": {
      "provenance": []
    },
    "accelerator": "GPU"
  },
  "nbformat": 4,
  "nbformat_minor": 5
}