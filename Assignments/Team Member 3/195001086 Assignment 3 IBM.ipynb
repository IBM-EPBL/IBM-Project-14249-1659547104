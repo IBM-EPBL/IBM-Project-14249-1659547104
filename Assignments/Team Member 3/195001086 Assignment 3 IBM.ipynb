{
 "cells": [
  {
   "cell_type": "code",
   "execution_count": 11,
   "id": "5641069f",
   "metadata": {},
   "outputs": [],
   "source": [
    "import tensorflow as tf\n",
    "import numpy as np\n",
    "import matplotlib.pyplot as plt\n",
    "%matplotlib inline"
   ]
  },
  {
   "cell_type": "code",
   "execution_count": 15,
   "id": "c7a73bc5",
   "metadata": {},
   "outputs": [],
   "source": [
    "IMG_SHAPE = 128\n",
    "IMG_FOLDER = \"./Flowers-Dataset/flowers/\"\n",
    "BATCH_SIZE = 64"
   ]
  },
  {
   "cell_type": "code",
   "execution_count": 16,
   "id": "79eb1ba9",
   "metadata": {},
   "outputs": [],
   "source": [
    "datagen = tf.keras.preprocessing.image.ImageDataGenerator(rescale=1/255.0, shear_range=0.2, zoom_range=0.2, \n",
    "                                                          rotation_range=45, horizontal_flip=True, vertical_flip=True,\n",
    "                                                          validation_split=0.2)"
   ]
  },
  {
   "cell_type": "code",
   "execution_count": 18,
   "id": "ccf809f6",
   "metadata": {},
   "outputs": [
    {
     "name": "stdout",
     "output_type": "stream",
     "text": [
      "Found 3457 images belonging to 5 classes.\n",
      "Found 860 images belonging to 5 classes.\n"
     ]
    }
   ],
   "source": [
    "train = datagen.flow_from_directory(IMG_FOLDER, target_size=(IMG_SHAPE,IMG_SHAPE), color_mode='rgb',\n",
    "                                    class_mode='categorical', batch_size=BATCH_SIZE,\n",
    "                                    shuffle=True, subset='training')\n",
    "test = datagen.flow_from_directory(IMG_FOLDER, target_size=(IMG_SHAPE,IMG_SHAPE), color_mode='rgb',\n",
    "                                class_mode='categorical', batch_size=BATCH_SIZE,\n",
    "                                shuffle=False, subset='validation')"
   ]
  },
  {
   "cell_type": "code",
   "execution_count": 19,
   "id": "b198861e",
   "metadata": {},
   "outputs": [],
   "source": [
    "model = tf.keras.models.Sequential()"
   ]
  },
  {
   "cell_type": "code",
   "execution_count": 20,
   "id": "69267d10",
   "metadata": {},
   "outputs": [
    {
     "name": "stdout",
     "output_type": "stream",
     "text": [
      "Model: \"sequential\"\n",
      "_________________________________________________________________\n",
      "Layer (type)                 Output Shape              Param #   \n",
      "=================================================================\n",
      "conv2d (Conv2D)              (None, 126, 126, 16)      448       \n",
      "_________________________________________________________________\n",
      "conv2d_1 (Conv2D)            (None, 126, 126, 16)      2320      \n",
      "_________________________________________________________________\n",
      "max_pooling2d (MaxPooling2D) (None, 63, 63, 16)        0         \n",
      "_________________________________________________________________\n",
      "conv2d_2 (Conv2D)            (None, 61, 61, 32)        4640      \n",
      "_________________________________________________________________\n",
      "conv2d_3 (Conv2D)            (None, 61, 61, 32)        9248      \n",
      "_________________________________________________________________\n",
      "max_pooling2d_1 (MaxPooling2 (None, 30, 30, 32)        0         \n",
      "_________________________________________________________________\n",
      "conv2d_4 (Conv2D)            (None, 28, 28, 64)        18496     \n",
      "_________________________________________________________________\n",
      "conv2d_5 (Conv2D)            (None, 28, 28, 64)        36928     \n",
      "_________________________________________________________________\n",
      "max_pooling2d_2 (MaxPooling2 (None, 14, 14, 64)        0         \n",
      "_________________________________________________________________\n",
      "conv2d_6 (Conv2D)            (None, 12, 12, 128)       73856     \n",
      "_________________________________________________________________\n",
      "conv2d_7 (Conv2D)            (None, 12, 12, 128)       147584    \n",
      "_________________________________________________________________\n",
      "flatten (Flatten)            (None, 18432)             0         \n",
      "_________________________________________________________________\n",
      "dense (Dense)                (None, 128)               2359424   \n",
      "_________________________________________________________________\n",
      "dense_1 (Dense)              (None, 64)                8256      \n",
      "_________________________________________________________________\n",
      "dense_2 (Dense)              (None, 5)                 325       \n",
      "=================================================================\n",
      "Total params: 2,661,525\n",
      "Trainable params: 2,661,525\n",
      "Non-trainable params: 0\n",
      "_________________________________________________________________\n"
     ]
    }
   ],
   "source": [
    "model.add(tf.keras.layers.Input((IMG_SHAPE,IMG_SHAPE,3)))\n",
    "model.add(tf.keras.layers.Conv2D(16, 3, activation='relu'))\n",
    "model.add(tf.keras.layers.Conv2D(16, 3, padding='same', activation='relu'))\n",
    "model.add(tf.keras.layers.MaxPool2D(2))\n",
    "model.add(tf.keras.layers.Conv2D(32, 3, activation='relu'))\n",
    "model.add(tf.keras.layers.Conv2D(32, 3, padding='same', activation='relu'))\n",
    "model.add(tf.keras.layers.MaxPool2D(2))\n",
    "model.add(tf.keras.layers.Conv2D(64, 3, activation='relu'))\n",
    "model.add(tf.keras.layers.Conv2D(64, 3, padding='same', activation='relu'))\n",
    "model.add(tf.keras.layers.MaxPool2D(2))\n",
    "model.add(tf.keras.layers.Conv2D(128, 3, activation='relu'))\n",
    "model.add(tf.keras.layers.Conv2D(128, 3, padding='same', activation='relu'))\n",
    "model.add(tf.keras.layers.Flatten())\n",
    "model.add(tf.keras.layers.Dense(128, activation='relu'))\n",
    "model.add(tf.keras.layers.Dense(64, activation='relu'))\n",
    "model.add(tf.keras.layers.Dense(5, activation='softmax'))\n",
    "\n",
    "model.summary()"
   ]
  },
  {
   "cell_type": "code",
   "execution_count": 21,
   "id": "6920c1c6",
   "metadata": {},
   "outputs": [],
   "source": [
    "model.compile(loss='categorical_crossentropy', optimizer=tf.keras.optimizers.Adam(1e-4), metrics=['accuracy'])"
   ]
  },
  {
   "cell_type": "code",
   "execution_count": 22,
   "id": "09668d4c",
   "metadata": {},
   "outputs": [
    {
     "name": "stdout",
     "output_type": "stream",
     "text": [
      "Epoch 1/25\n",
      "55/55 [==============================] - 104s 2s/step - loss: 1.5893 - accuracy: 0.2551\n",
      "Epoch 2/25\n",
      "55/55 [==============================] - 119s 2s/step - loss: 1.4106 - accuracy: 0.3818\n",
      "Epoch 3/25\n",
      "55/55 [==============================] - 105s 2s/step - loss: 1.2392 - accuracy: 0.4391\n",
      "Epoch 4/25\n",
      "55/55 [==============================] - 109s 2s/step - loss: 1.1788 - accuracy: 0.4892\n",
      "Epoch 5/25\n",
      "55/55 [==============================] - 102s 2s/step - loss: 1.1908 - accuracy: 0.5010\n",
      "Epoch 6/25\n",
      "55/55 [==============================] - 88s 2s/step - loss: 1.1249 - accuracy: 0.5201\n",
      "Epoch 7/25\n",
      "55/55 [==============================] - 82s 1s/step - loss: 1.1062 - accuracy: 0.5380\n",
      "Epoch 8/25\n",
      "55/55 [==============================] - 92s 2s/step - loss: 1.1027 - accuracy: 0.5418\n",
      "Epoch 9/25\n",
      "55/55 [==============================] - 81s 1s/step - loss: 1.0715 - accuracy: 0.5664\n",
      "Epoch 10/25\n",
      "55/55 [==============================] - 78s 1s/step - loss: 1.0684 - accuracy: 0.5673\n",
      "Epoch 11/25\n",
      "55/55 [==============================] - 75s 1s/step - loss: 1.0139 - accuracy: 0.5910\n",
      "Epoch 12/25\n",
      "55/55 [==============================] - 77s 1s/step - loss: 1.0357 - accuracy: 0.5861\n",
      "Epoch 13/25\n",
      "55/55 [==============================] - 74s 1s/step - loss: 0.9953 - accuracy: 0.6011\n",
      "Epoch 14/25\n",
      "55/55 [==============================] - 75s 1s/step - loss: 0.9671 - accuracy: 0.6199\n",
      "Epoch 15/25\n",
      "55/55 [==============================] - 73s 1s/step - loss: 0.9518 - accuracy: 0.6185\n",
      "Epoch 16/25\n",
      "55/55 [==============================] - 70s 1s/step - loss: 1.0163 - accuracy: 0.5832\n",
      "Epoch 17/25\n",
      "55/55 [==============================] - 73s 1s/step - loss: 0.9588 - accuracy: 0.6086\n",
      "Epoch 18/25\n",
      "55/55 [==============================] - 71s 1s/step - loss: 0.9470 - accuracy: 0.6225\n",
      "Epoch 19/25\n",
      "55/55 [==============================] - 72s 1s/step - loss: 0.9401 - accuracy: 0.6231\n",
      "Epoch 20/25\n",
      "55/55 [==============================] - 86s 2s/step - loss: 0.9149 - accuracy: 0.6318\n",
      "Epoch 21/25\n",
      "55/55 [==============================] - 81s 1s/step - loss: 0.9046 - accuracy: 0.6355\n",
      "Epoch 22/25\n",
      "55/55 [==============================] - 115s 2s/step - loss: 0.8748 - accuracy: 0.6578\n",
      "Epoch 23/25\n",
      "55/55 [==============================] - 117s 2s/step - loss: 0.8675 - accuracy: 0.6563\n",
      "Epoch 24/25\n",
      "55/55 [==============================] - 75s 1s/step - loss: 0.8728 - accuracy: 0.6549\n",
      "Epoch 25/25\n",
      "55/55 [==============================] - 74s 1s/step - loss: 0.9262 - accuracy: 0.6378\n"
     ]
    }
   ],
   "source": [
    "hist = model.fit(train, epochs=25)"
   ]
  },
  {
   "cell_type": "code",
   "execution_count": 23,
   "id": "beba0483",
   "metadata": {},
   "outputs": [],
   "source": [
    "model.save(\"flowers.h5\")"
   ]
  },
  {
   "cell_type": "code",
   "execution_count": 24,
   "id": "2d39be27",
   "metadata": {},
   "outputs": [
    {
     "name": "stdout",
     "output_type": "stream",
     "text": [
      "14/14 [==============================] - 14s 1s/step - loss: 0.9333 - accuracy: 0.6291\n"
     ]
    }
   ],
   "source": [
    "loss, acc = model.evaluate(test)"
   ]
  },
  {
   "cell_type": "code",
   "execution_count": 25,
   "id": "3438abe2",
   "metadata": {},
   "outputs": [
    {
     "name": "stdout",
     "output_type": "stream",
     "text": [
      "Loss Value for Test Data : 0.93\n",
      "Accuracy for Test Data : 0.63\n"
     ]
    }
   ],
   "source": [
    "print(f\"Loss Value for Test Data : {loss:0.2f}\")\n",
    "print(f\"Accuracy for Test Data : {acc:0.2f}\")"
   ]
  },
  {
   "cell_type": "code",
   "execution_count": 26,
   "id": "bf955165",
   "metadata": {},
   "outputs": [
    {
     "data": {
      "image/png": "[encoded data removed]",
      "text/plain": [
       "<Figure size 432x288 with 1 Axes>"
      ]
     },
     "metadata": {
      "needs_background": "light"
     },
     "output_type": "display_data"
    }
   ],
   "source": [
    "plt.plot(hist.history['loss'])\n",
    "plt.title(\"Loss Value over Epochs\")\n",
    "plt.xlabel(\"Epochs\")\n",
    "plt.ylabel(\"Loss\")\n",
    "plt.show()"
   ]
  },
  {
   "cell_type": "code",
   "execution_count": 27,
   "id": "a80ef3cf",
   "metadata": {},
   "outputs": [
    {
     "data": {
      "image/png": "[encoded data removed]",
      "text/plain": [
       "<Figure size 432x288 with 1 Axes>"
      ]
     },
     "metadata": {
      "needs_background": "light"
     },
     "output_type": "display_data"
    }
   ],
   "source": [
    "plt.plot(hist.history['accuracy'])\n",
    "plt.title(\"Accuracy over Epochs\")\n",
    "plt.xlabel(\"Epochs\")\n",
    "plt.ylabel(\"Accuracy\")\n",
    "plt.show()"
   ]
  },
  {
   "cell_type": "code",
   "execution_count": null,
   "id": "b77d31ba",
   "metadata": {},
   "outputs": [],
   "source": []
  }
 ],
 "metadata": {
  "kernelspec": {
   "display_name": "Python 3",
   "language": "python",
   "name": "python3"
  },
  "language_info": {
   "codemirror_mode": {
    "name": "ipython",
    "version": 3
   },
   "file_extension": ".py",
   "mimetype": "text/x-python",
   "name": "python",
   "nbconvert_exporter": "python",
   "pygments_lexer": "ipython3",
   "version": "3.8.8"
  }
 },
 "nbformat": 4,
 "nbformat_minor": 5
}
